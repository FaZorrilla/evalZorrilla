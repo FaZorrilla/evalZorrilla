{
 "cells": [
  {
   "cell_type": "code",
   "execution_count": 1,
   "metadata": {},
   "outputs": [],
   "source": [
    "import pandas as pd\n",
    "\n",
    "tweets = pd.read_json('tweets.json', lines=True)\n",
    "\n",
    "tweets.sort_values(by=\"retweetCount\", ascending=False)\n",
    "\n",
    "tweets.head(10)"
   ]
  },
  {
   "cell_type": "markdown",
   "metadata": {},
   "source": [
    "Debido a que la tarea de Estructura de Datos y Algoritmos se entregaba hoy tambien no alcance a hacer las otras funciones.\n",
    "\n",
    "Dejo comentado el paso a paso de que se debe hacer, ademas de hecho el git flow."
   ]
  },
  {
   "cell_type": "code",
   "execution_count": null,
   "metadata": {},
   "outputs": [],
   "source": [
    "# Se debe armar un diccionario vacio, donde las keys sean los usuarios y sus values sea un contador de tweets\n",
    "\n",
    "# Se debe iterar sobre el dataset para obtener los contadores.\n",
    "\n",
    "# Se obtienen los top 10 y se sacan del dataset sus diccionarios para mostrarlos."
   ]
  },
  {
   "cell_type": "code",
   "execution_count": null,
   "metadata": {},
   "outputs": [],
   "source": [
    "# Esto se hace de la misma manera que los usuarios\n",
    "\n",
    "# Se arma un diccionario con las fechas y su contador respectivo\n",
    "\n",
    "# Se itera para aumentar los contadores\n",
    "\n",
    "# Se obtiene el top 10."
   ]
  }
 ],
 "metadata": {
  "interpreter": {
   "hash": "e7370f93d1d0cde622a1f8e1c04877d8463912d04d973331ad4851f04de6915a"
  },
  "kernelspec": {
   "display_name": "Python 3.8.10 64-bit",
   "language": "python",
   "name": "python3"
  },
  "language_info": {
   "codemirror_mode": {
    "name": "ipython",
    "version": 3
   },
   "file_extension": ".py",
   "mimetype": "text/x-python",
   "name": "python",
   "nbconvert_exporter": "python",
   "pygments_lexer": "ipython3",
   "version": "3.8.10"
  },
  "orig_nbformat": 4
 },
 "nbformat": 4,
 "nbformat_minor": 2
}
